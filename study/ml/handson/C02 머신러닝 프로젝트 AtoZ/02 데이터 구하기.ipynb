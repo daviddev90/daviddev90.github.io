{
 "cells": [
  {
   "attachments": {},
   "cell_type": "markdown",
   "metadata": {},
   "source": [
    "### 데이터 다운로드 함수\n",
    "- (실제 프로젝트에서는 py 파일로 만들어서 사용한다 - functions 폴더에 만들어둠)\n",
    "- 사실 이 데이터는 바뀌지도 않고, 다운로드할 것이 하나라 그냥 들어가서 다운받아 압축을 풀면 된다.\n",
    "- 하지만 하나의 루트 사이트에서 정기적으로 바뀌는 여러가지 URL의 데이터들을 다운로드 한다면 아래와 같이 함수를 만들어 사용하면 좋다.\n"
   ]
  },
  {
   "cell_type": "code",
   "execution_count": null,
   "metadata": {},
   "outputs": [],
   "source": [
    "import os\n",
    "import tarfile\n",
    "import urllib\n",
    "\n",
    "DOWNLOAD_ROOT = \"https://raw.githubusercontent.com/ageron/handson-ml2/master/\"\n",
    "# 우리가 다룰 path도 여기서는 하나이지만, 복잡한 경로를 다룬다면 아래처럼 os 모듈을 사용하면 좋다.\n",
    "HOUSING_PATH = os.path.join(\"datasets\", \"housing\")\n",
    "HOUSING_URL = DOWNLOAD_ROOT + \"datasets/housing/housing.tgz\"\n",
    "\n",
    "def fetch_housing_data(housing_url=HOUSING_URL, housing_path=HOUSING_PATH):\n",
    "    # os.makedirs()는 이미 존재하는 디렉토리를 만들려고 하면 에러가 발생하므로, exist_ok=True로 설정해준다.\n",
    "    os.makedirs(housing_path, exist_ok=True)\n",
    "    tgz_path = os.path.join(housing_path, \"housing.tgz\")\n",
    "    # urllib urlretrieve() 함수는 url로 지정한 파일을 로컬에 다운로드 한다.\n",
    "    urllib.request.urlretrieve(housing_url, tgz_path)\n",
    "    # tarfile.open() 함수는 압축파일을 열어준다.\n",
    "    housing_tgz = tarfile.open(tgz_path)\n",
    "    # extractall() 함수는 압축파일을 풀어준다.\n",
    "    housing_tgz.extractall(path=housing_path)\n",
    "    housing_tgz.close()"
   ]
  },
  {
   "attachments": {},
   "cell_type": "markdown",
   "metadata": {},
   "source": [
    "### 데이터를 데이터프레임으로 읽어오는 함수 정의"
   ]
  },
  {
   "cell_type": "code",
   "execution_count": null,
   "metadata": {},
   "outputs": [],
   "source": [
    "import pandas as pd\n",
    "\n",
    "def load_housing_data(housing_path=HOUSING_PATH):\n",
    "    csv_path = os.path.join(housing_path, \"housing.csv\")\n",
    "    return pd.read_csv(csv_path)"
   ]
  },
  {
   "attachments": {},
   "cell_type": "markdown",
   "metadata": {},
   "source": [
    "### 위에서 정의한 두 함수를 실행해 데이터를 fetch, load 해보기"
   ]
  },
  {
   "cell_type": "code",
   "execution_count": null,
   "metadata": {},
   "outputs": [],
   "source": [
    "fetch_housing_data()\n",
    "housing = load_housing_data()\n",
    "\n",
    "housing.head()"
   ]
  }
 ],
 "metadata": {
  "kernelspec": {
   "display_name": "Python 3",
   "language": "python",
   "name": "python3"
  },
  "language_info": {
   "name": "python",
   "version": "3.9.6 (default, Oct 18 2022, 12:41:40) \n[Clang 14.0.0 (clang-1400.0.29.202)]"
  },
  "orig_nbformat": 4,
  "vscode": {
   "interpreter": {
    "hash": "31f2aee4e71d21fbe5cf8b01ff0e069b9275f58929596ceb00d14d90e3e16cd6"
   }
  }
 },
 "nbformat": 4,
 "nbformat_minor": 2
}
