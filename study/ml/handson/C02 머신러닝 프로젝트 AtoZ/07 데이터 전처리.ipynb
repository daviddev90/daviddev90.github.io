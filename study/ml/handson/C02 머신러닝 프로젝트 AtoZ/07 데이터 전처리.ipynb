{
 "cells": [
  {
   "attachments": {},
   "cell_type": "markdown",
   "metadata": {},
   "source": [
    "# 전처리(데이터 변환)를 자동화(함수 만들기)해야 하는 이유\n",
    "1. 새롭거나 바뀐 데이터셋이 들어왔을 때 데이터 변환을 쉽게 반복할 수 있어야 한다: 엄청 많이 할 거거든\n",
    "2. 자동화해놓은 변환 프로세스는 향후 프로젝트에서 사용할 수 있다. 즉, 나만의 변환 라이브러리를 점진적으로 구축하게 된다.\n",
    "3. 실제 시스템에서 알고리즘에 새 데이터를 주입하기 전에 변환해야 하는데, 그 때 이 함수를 사용할 수 있다\n",
    "4. 여러가지 데이터 변환을 쉽게 시도하고, 어떤 조합이 가장 좋은지 확인하는 데 편리하다"
   ]
  },
  {
   "cell_type": "code",
   "execution_count": 1,
   "metadata": {},
   "outputs": [],
   "source": [
    "# 데이터셋을 불러온다\n",
    "import pandas as pd\n",
    "# 첫 번째 컬럼이 우리가 만든 index이므로 index_col=0을 지정해준다.\n",
    "strat_train_set = pd.read_csv(\"../datasets/temp/strat_train_set.csv\", index_col=0)\n",
    "\n",
    "# drop() 함수는 해당 컬럼을 삭제하는데, 복사본을 만들어서 삭제하므로 원본은 그대로 유지된다.\n",
    "housing = strat_train_set.drop(\"median_house_value\", axis=1)\n",
    "housing_labels = strat_train_set[\"median_house_value\"].copy()\n",
    "\n",
    "# housing 저장해두기\n",
    "housing_labels.to_csv(\"./housing_labels.csv\")\n",
    "housing.to_csv(\"./housing.csv\")"
   ]
  },
  {
   "cell_type": "code",
   "execution_count": 7,
   "metadata": {},
   "outputs": [
    {
     "data": {
      "text/plain": [
       "158"
      ]
     },
     "execution_count": 7,
     "metadata": {},
     "output_type": "execute_result"
    }
   ],
   "source": [
    "# na값 확인\n",
    "housing['total_bedrooms'].isnull().sum()\n"
   ]
  },
  {
   "attachments": {},
   "cell_type": "markdown",
   "metadata": {},
   "source": [
    "## 데이터 정제1) 누락값을 어떻게 처리할 것인가?\n",
    "\n",
    "total_bedrooms에 누락된 값이 있는데, 아래와 같은 방법 중 하나를 선택할 수 있다.\n",
    "1. 해당 구역 제거\n",
    "2. 전체 특성 삭제\n",
    "3. 0, 평균, 중간값 등 어떤 값으로 채운다.\n",
    "\n",
    "### 주의, 3번을 선택했을 경우 어떤 값으로 채웠는지 저장할 것. \n",
    "나중에 새 데이터가 들어와도 같은 그 값으로 채워야 한다"
   ]
  },
  {
   "attachments": {},
   "cell_type": "markdown",
   "metadata": {},
   "source": [
    "### 채우기1: fillna를 이용해 중간값으로 채우기"
   ]
  },
  {
   "cell_type": "code",
   "execution_count": 8,
   "metadata": {},
   "outputs": [
    {
     "name": "stdout",
     "output_type": "stream",
     "text": [
      "0\n",
      "158\n"
     ]
    }
   ],
   "source": [
    "median = housing['total_bedrooms'].median()\n",
    "housing_fillna_bedrooms = housing['total_bedrooms'].fillna(median)\n",
    "\n",
    "# na값이 채워졌는지 확인\n",
    "print(housing_fillna_bedrooms.isnull().sum()) # na가 잘 채워진 것을 확인했다\n",
    "print(housing['total_bedrooms'].isnull().sum()) # fillna는 원본을 건드리지 않는다"
   ]
  },
  {
   "attachments": {},
   "cell_type": "markdown",
   "metadata": {},
   "source": [
    "### 채우기2: SimpleImputer 활용하기\n",
    "\n",
    "- SimpleImputer는 중간값 등을 활용해 누락된 값을 쉽게 채운다. \n",
    "- 계산된 중간값은 저장된다.\n",
    "- 수치형 특성에서만 적용되기 때문에 텍스트 특성 등을 제외하고 수치형으로만 복사본을 만들어 활용해야 한다."
   ]
  },
  {
   "cell_type": "code",
   "execution_count": 9,
   "metadata": {},
   "outputs": [],
   "source": [
    "from sklearn.impute import SimpleImputer\n",
    "\n",
    "# 누락된 값을 중간값으로 대체하는 Imputer 객체를 생성한다.\n",
    "imputer = SimpleImputer(strategy=\"median\")"
   ]
  },
  {
   "cell_type": "code",
   "execution_count": 10,
   "metadata": {},
   "outputs": [],
   "source": [
    "# 중간값이 수치형 특성에서만 계산될 수 있기 때문에 텍스트 특성인 ocean_proximity를 제외한 데이터 복사본을 생성한다.\n",
    "housing_num = housing.drop(\"ocean_proximity\", axis=1)"
   ]
  },
  {
   "cell_type": "code",
   "execution_count": 11,
   "metadata": {},
   "outputs": [
    {
     "name": "stdout",
     "output_type": "stream",
     "text": [
      "[-118.51      34.26      29.      2119.       433.      1164.\n",
      "  408.         3.54155]\n",
      "[-118.51      34.26      29.      2119.       433.      1164.\n",
      "  408.         3.54155]\n"
     ]
    }
   ],
   "source": [
    "# imputer 객체의 fit() 메서드를 사용하면 imputer.statistics_에 각 특성의 중간값이 계산되어 저장된다\n",
    "imputer.fit(housing_num)\n",
    "\n",
    "# imputer 객체의 statistics_ 속성에 저장된 값과 수동으로 계산한 값이 같은지 확인해보자\n",
    "print(imputer.statistics_)\n",
    "print(housing_num.median().values)"
   ]
  },
  {
   "cell_type": "code",
   "execution_count": 13,
   "metadata": {},
   "outputs": [
    {
     "data": {
      "text/html": [
       "<div>\n",
       "<style scoped>\n",
       "    .dataframe tbody tr th:only-of-type {\n",
       "        vertical-align: middle;\n",
       "    }\n",
       "\n",
       "    .dataframe tbody tr th {\n",
       "        vertical-align: top;\n",
       "    }\n",
       "\n",
       "    .dataframe thead th {\n",
       "        text-align: right;\n",
       "    }\n",
       "</style>\n",
       "<table border=\"1\" class=\"dataframe\">\n",
       "  <thead>\n",
       "    <tr style=\"text-align: right;\">\n",
       "      <th></th>\n",
       "      <th>longitude</th>\n",
       "      <th>latitude</th>\n",
       "      <th>housing_median_age</th>\n",
       "      <th>total_rooms</th>\n",
       "      <th>total_bedrooms</th>\n",
       "      <th>population</th>\n",
       "      <th>households</th>\n",
       "      <th>median_income</th>\n",
       "    </tr>\n",
       "  </thead>\n",
       "  <tbody>\n",
       "    <tr>\n",
       "      <th>12655</th>\n",
       "      <td>-121.46</td>\n",
       "      <td>38.52</td>\n",
       "      <td>29.0</td>\n",
       "      <td>3873.0</td>\n",
       "      <td>797.0</td>\n",
       "      <td>2237.0</td>\n",
       "      <td>706.0</td>\n",
       "      <td>2.1736</td>\n",
       "    </tr>\n",
       "    <tr>\n",
       "      <th>15502</th>\n",
       "      <td>-117.23</td>\n",
       "      <td>33.09</td>\n",
       "      <td>7.0</td>\n",
       "      <td>5320.0</td>\n",
       "      <td>855.0</td>\n",
       "      <td>2015.0</td>\n",
       "      <td>768.0</td>\n",
       "      <td>6.3373</td>\n",
       "    </tr>\n",
       "    <tr>\n",
       "      <th>2908</th>\n",
       "      <td>-119.04</td>\n",
       "      <td>35.37</td>\n",
       "      <td>44.0</td>\n",
       "      <td>1618.0</td>\n",
       "      <td>310.0</td>\n",
       "      <td>667.0</td>\n",
       "      <td>300.0</td>\n",
       "      <td>2.8750</td>\n",
       "    </tr>\n",
       "    <tr>\n",
       "      <th>14053</th>\n",
       "      <td>-117.13</td>\n",
       "      <td>32.75</td>\n",
       "      <td>24.0</td>\n",
       "      <td>1877.0</td>\n",
       "      <td>519.0</td>\n",
       "      <td>898.0</td>\n",
       "      <td>483.0</td>\n",
       "      <td>2.2264</td>\n",
       "    </tr>\n",
       "    <tr>\n",
       "      <th>20496</th>\n",
       "      <td>-118.70</td>\n",
       "      <td>34.28</td>\n",
       "      <td>27.0</td>\n",
       "      <td>3536.0</td>\n",
       "      <td>646.0</td>\n",
       "      <td>1837.0</td>\n",
       "      <td>580.0</td>\n",
       "      <td>4.4964</td>\n",
       "    </tr>\n",
       "  </tbody>\n",
       "</table>\n",
       "</div>"
      ],
      "text/plain": [
       "       longitude  latitude  housing_median_age  total_rooms  total_bedrooms  \\\n",
       "12655    -121.46     38.52                29.0       3873.0           797.0   \n",
       "15502    -117.23     33.09                 7.0       5320.0           855.0   \n",
       "2908     -119.04     35.37                44.0       1618.0           310.0   \n",
       "14053    -117.13     32.75                24.0       1877.0           519.0   \n",
       "20496    -118.70     34.28                27.0       3536.0           646.0   \n",
       "\n",
       "       population  households  median_income  \n",
       "12655      2237.0       706.0         2.1736  \n",
       "15502      2015.0       768.0         6.3373  \n",
       "2908        667.0       300.0         2.8750  \n",
       "14053       898.0       483.0         2.2264  \n",
       "20496      1837.0       580.0         4.4964  "
      ]
     },
     "execution_count": 13,
     "metadata": {},
     "output_type": "execute_result"
    }
   ],
   "source": [
    "# 학습된 imputer 객체를 사용해 훈련 세트에서 누락된 값을 학습한 중간값으로 바꾼다.\n",
    "X = imputer.transform(housing_num)\n",
    "\n",
    "# X는 numpy 배열이므로 아래와 같은 명령어가 먹히지 않는다\n",
    "# print(X.head())\n",
    "\n",
    "# 다시 pandas의 DataFrame으로 변환한다.\n",
    "housing_tr = pd.DataFrame(X, columns=housing_num.columns, index=housing_num.index)\n",
    "housing_tr.head()"
   ]
  },
  {
   "attachments": {},
   "cell_type": "markdown",
   "metadata": {},
   "source": [
    "# 데이터 정제 2) 텍스트와 범주형 특성"
   ]
  },
  {
   "cell_type": "code",
   "execution_count": 18,
   "metadata": {},
   "outputs": [
    {
     "data": {
      "text/html": [
       "<div>\n",
       "<style scoped>\n",
       "    .dataframe tbody tr th:only-of-type {\n",
       "        vertical-align: middle;\n",
       "    }\n",
       "\n",
       "    .dataframe tbody tr th {\n",
       "        vertical-align: top;\n",
       "    }\n",
       "\n",
       "    .dataframe thead th {\n",
       "        text-align: right;\n",
       "    }\n",
       "</style>\n",
       "<table border=\"1\" class=\"dataframe\">\n",
       "  <thead>\n",
       "    <tr style=\"text-align: right;\">\n",
       "      <th></th>\n",
       "      <th>ocean_proximity</th>\n",
       "    </tr>\n",
       "  </thead>\n",
       "  <tbody>\n",
       "    <tr>\n",
       "      <th>12655</th>\n",
       "      <td>INLAND</td>\n",
       "    </tr>\n",
       "    <tr>\n",
       "      <th>15502</th>\n",
       "      <td>NEAR OCEAN</td>\n",
       "    </tr>\n",
       "    <tr>\n",
       "      <th>2908</th>\n",
       "      <td>INLAND</td>\n",
       "    </tr>\n",
       "    <tr>\n",
       "      <th>14053</th>\n",
       "      <td>NEAR OCEAN</td>\n",
       "    </tr>\n",
       "    <tr>\n",
       "      <th>20496</th>\n",
       "      <td>&lt;1H OCEAN</td>\n",
       "    </tr>\n",
       "    <tr>\n",
       "      <th>1481</th>\n",
       "      <td>NEAR BAY</td>\n",
       "    </tr>\n",
       "    <tr>\n",
       "      <th>18125</th>\n",
       "      <td>&lt;1H OCEAN</td>\n",
       "    </tr>\n",
       "    <tr>\n",
       "      <th>5830</th>\n",
       "      <td>&lt;1H OCEAN</td>\n",
       "    </tr>\n",
       "    <tr>\n",
       "      <th>17989</th>\n",
       "      <td>&lt;1H OCEAN</td>\n",
       "    </tr>\n",
       "    <tr>\n",
       "      <th>4861</th>\n",
       "      <td>&lt;1H OCEAN</td>\n",
       "    </tr>\n",
       "  </tbody>\n",
       "</table>\n",
       "</div>"
      ],
      "text/plain": [
       "      ocean_proximity\n",
       "12655          INLAND\n",
       "15502      NEAR OCEAN\n",
       "2908           INLAND\n",
       "14053      NEAR OCEAN\n",
       "20496       <1H OCEAN\n",
       "1481         NEAR BAY\n",
       "18125       <1H OCEAN\n",
       "5830        <1H OCEAN\n",
       "17989       <1H OCEAN\n",
       "4861        <1H OCEAN"
      ]
     },
     "execution_count": 18,
     "metadata": {},
     "output_type": "execute_result"
    }
   ],
   "source": [
    "housing_category = housing[['ocean_proximity']]\n",
    "housing_category.head(10)\n",
    "\n",
    "# 아래 결과에서 이 특성은 임의의 텍스트가 아니라, 제한된 특정 값들로 구분한 범주형임을 확인할 수 있다."
   ]
  },
  {
   "attachments": {},
   "cell_type": "markdown",
   "metadata": {},
   "source": [
    "## 숫자로 변환하기\n",
    "- 대부분의 머신러닝 알고리즘은 숫자를 다룬다. 따라서 우리는 텍스트나 범주를 모두 숫자로 바꿔야 한다.\n",
    "\n",
    "### 방법1) OrdinalEncoder"
   ]
  },
  {
   "cell_type": "code",
   "execution_count": 20,
   "metadata": {},
   "outputs": [
    {
     "name": "stdout",
     "output_type": "stream",
     "text": [
      "[[1.]\n",
      " [4.]\n",
      " [1.]\n",
      " [4.]\n",
      " [0.]\n",
      " [3.]\n",
      " [0.]\n",
      " [0.]\n",
      " [0.]\n",
      " [0.]]\n",
      "[array(['<1H OCEAN', 'INLAND', 'ISLAND', 'NEAR BAY', 'NEAR OCEAN'],\n",
      "      dtype=object)]\n"
     ]
    }
   ],
   "source": [
    "from sklearn.preprocessing import OrdinalEncoder\n",
    "ordinal_encoder = OrdinalEncoder()\n",
    "housing_category_encoded = ordinal_encoder.fit_transform(housing_category)\n",
    "print(housing_category_encoded[:10])\n",
    "print(ordinal_encoder.categories_)"
   ]
  },
  {
   "attachments": {},
   "cell_type": "markdown",
   "metadata": {},
   "source": [
    "cetegories_는 변환한 범주형 특성마다 카테고리의 1D 배열을 담은 리스트를 변환한다.\n",
    "여기서 범주형 특성은 하나뿐이므로 배열 하나를 담은 리스트가 반환됐다\n",
    "\n",
    "### 문제점\n",
    "- 머신러닝 알고리즘은 가까운 값을 떨어진 값보다 더 비슷하다고 생각한다.\n",
    "- 예를 들어 terrible, bad, average, good, excellent의 경우에는 문제가 없다.\n",
    "- excellent는 good과 가깝고, terrible은 bad와 가까우니까.\n",
    "- 하지만 ocean_proximity는 그런 경우에 해당하지 않는다.\n",
    "\n",
    "### One-Hot-Encoding\n",
    "- ocean_proximity의 범주 값은 5가지이다. 이 5가지를 하나씩의 특성으로 만들어, 이 특성에 해당합니까? 에 대한 값을 1 또는 0으로 가지게 만든다.\n",
    "- 예를 들어 INLAND값을 가진다면, INLAND 특성은 1, 나머지 특성들은 0을 가진다.\n",
    "- 새로 생긴 5개 특성을 dummy라고도 부른다."
   ]
  },
  {
   "cell_type": "code",
   "execution_count": 24,
   "metadata": {},
   "outputs": [
    {
     "data": {
      "text/plain": [
       "<16512x5 sparse matrix of type '<class 'numpy.float64'>'\n",
       "\twith 16512 stored elements in Compressed Sparse Row format>"
      ]
     },
     "execution_count": 24,
     "metadata": {},
     "output_type": "execute_result"
    }
   ],
   "source": [
    "from sklearn.preprocessing import OneHotEncoder\n",
    "cat_encoder = OneHotEncoder()\n",
    "housing_category_1hot = cat_encoder.fit_transform(housing_category)\n",
    "housing_category_1hot\n",
    "# 아래 출력되는 메시지를 확인해보면, 16512개 행에 5개의 카테고리가 있고, 0이 아닌 원소의 위치만 저장되어 있다."
   ]
  },
  {
   "attachments": {},
   "cell_type": "markdown",
   "metadata": {},
   "source": [
    "출력을 보면 Sparse Matrix다. \n",
    "예를 들어 카테고리 값이 수천개가 되는 특성을 원 핫 인코딩 한다면 이 특성은 column이 수천개가 되어버린다.\n",
    "\n",
    "각 row는 1이 하나뿐이고 그 외에는 모두 0으로 채워져 있을 것이다.\n",
    "\n",
    "이것을 모두 메모리에 저장하는 것은 낭비이다.\n",
    "\n",
    "1의 위치만 저장하는 것이 훨씬 효율적이며, 이것이 바로 희소 행렬(sparse matrix)다.\n",
    "\n",
    "이것을 2차원 배열처럼 사용할 수도 있지만, 넘파이 배열로 바꾸고 싶다면 toarray()메서드를 호출하면 된다."
   ]
  },
  {
   "attachments": {},
   "cell_type": "markdown",
   "metadata": {},
   "source": [
    "# 표현 학습\n",
    "- 원 핫 인코딩은 많은 수의 특성을 만들어낸다.\n",
    "- 이는 훈련을 느리게 하고 성능을 감소시킨다.\n",
    "- 범주 값을 \"의미있는\" 숫자형 특성으로 바꿀 수 있다.\n",
    "\n",
    "- 예를 들어 국가 코드라는 범주를 사용하는 대신 국가의 1인당 GDP와 인구라는 특성으로 바꿀 수 있다.\n",
    "- 이렇게 하면 국가끼리 구분을 유지하면서, 쓸데없는 152개 Column을 생성하는 대신 의미있는 2개의 컬럼을 생성한다.\n",
    "\n",
    "- ocen_proximity 특성은 구할 수 있다면 해안까지의 거리라는 특성으로 바꿀 수 있다."
   ]
  },
  {
   "attachments": {},
   "cell_type": "markdown",
   "metadata": {},
   "source": [
    "# 나만의 변환기 만들기\n",
    "- 사이킷런은 DUCK TYPING을 지원한다.\n",
    "- 상속이나 인터페이스 구현이 아니라, 객체의 속성이나 메서드가 객체의 유형을 결정하는 방식을 말한다.\n",
    "- 즉, fit()(self를 반환), tranform(), fit_transform() 메서드가 구현되어 있는 클래스를 만들면, 그것을 다른 사이킷런 객체들과 연결해 pipeline을 만들 수 있다.\n",
    "- fit_tranform() 메서드는 따로 구현할 필요 없이, TranformerMixin을 상속하는 것 만으로 자동으로 생성된다.\n",
    "- BaseEstimator를 상속하면 하이퍼파라미터 튜닝에 꼭! 필요한 get_params(), set_params()를 얻을 수 있다.\n",
    "- 다만 위 두 메서드를 사용하면 *args나 **kargs는 사용할 수 없다"
   ]
  },
  {
   "cell_type": "code",
   "execution_count": 26,
   "metadata": {},
   "outputs": [],
   "source": [
    "from sklearn.base import BaseEstimator, TransformerMixin\n",
    "\n",
    "rooms_ix, bedrooms_ix, population_ix, households_ix = 3, 4, 5, 6\n",
    "\n",
    "class CombinedAttributesAdder(BaseEstimator, TransformerMixin):\n",
    "  def __init__(self, add_bedrooms_per_room=True):\n",
    "    self.add_bedrooms_per_room = add_bedrooms_per_room\n",
    "  def fit(self, X, y=None):\n",
    "    return self\n",
    "  def transform(self, X):\n",
    "    rooms_per_household = X[:, rooms_ix] / X[:, households_ix]\n",
    "    population_per_household = X[:, population_ix] / X[:, households_ix]\n",
    "    if self.add_bedrooms_per_room:\n",
    "      bedrooms_per_room = X[:, bedrooms_ix] / X[:, rooms_ix]\n",
    "      return np.c_[X, rooms_per_household, population_per_household, bedrooms_per_room]\n",
    "    else:\n",
    "      return np.c_[X, rooms_per_household, population_per_household]"
   ]
  },
  {
   "attachments": {},
   "cell_type": "markdown",
   "metadata": {},
   "source": [
    "- 위의 변환기는 add_bedrooms_per_room 파라미터 하나를 가진다.\n",
    "- 객체를 생성할 때 이 값을 주지 않으면 기본값은 True다.\n",
    "- 이 특성을 추가하는 것이 머신러닝 알고리즘에 도움이 될 지 이 하이퍼파라미터로 쉽게 확인해볼 수 있다."
   ]
  },
  {
   "attachments": {},
   "cell_type": "markdown",
   "metadata": {},
   "source": [
    "# 특성 스케일링(Feature Scaling)\n",
    "- 데이터에 적용할 가장 중요한 변환 중 하나다.\n",
    "- Tree 기반 알고리즘 등 몇 가지를 빼고는, 머신러닝 알고리즘은 숫자 특성들의 스케일이 많이 다르면 성능이 크게 떨어진다.\n",
    "- (타겟값에 대한 스케일링은 일반적으로 불필요하다)\n",
    "- 예를 들어 전체 방 개수의 범위는 6에서 39,320인데, 중간소득의 범위는 0에서 15까지다. 이를 비슷하게 맞춰줘야 한다.\n",
    "\n",
    "### min-max 스케일링(=정규화(normalization))\n",
    "- 데이터에서 최솟값을 빼고 최댓값과 최솟값의 차이로 나누어 모든 숫자를 최소0, 최대1로 맞추는 것.\n",
    "- 사이킷런에서는 MinMaxScaler 변환기로 사용.\n",
    "- 문제: 이상치의 영향을 표준화보다 더 받음. 예) 중간소득이 0~15 사이인데, 1개의 값만 100이라고 잘못 입력되어 있다면, 사실상 0 ~ 0.15 사이로 스케일링되어버릴것\n",
    "- 이상치를 확실하게 제거한 다음 사용해야 함.\n",
    "\n",
    "### 표준화(standardization)\n",
    "- 평균을 빼고 표준편차로 나누어, 데이터의 평균을 0, 표준편차가 1이 되도록 하는 것.\n",
    "- 범위의 상한과 하한이 없어 특정 알고리즘에서 사용할 수 없다.\n",
    "- 예를 들어 신경망 알고리즘들은 종종 입력값 범위로 0~1 사이 값을 제공해야 한다.\n",
    "\n",
    "# 스케일링시의 주의점!\n",
    "- 훈련세트에 대해서만 fit()한 다음\n",
    "- 훈련세트+테스트세트+새로운 데이터에 대해 transform() 한다.\n",
    "- 즉, label이 아닌 모든 데이터가 transform() 되어야 하지만, fit 과정에서 알고리즘은 훈련세트만 알아야 한다."
   ]
  },
  {
   "cell_type": "code",
   "execution_count": null,
   "metadata": {},
   "outputs": [],
   "source": []
  }
 ],
 "metadata": {
  "kernelspec": {
   "display_name": "venv-metal",
   "language": "python",
   "name": "python3"
  },
  "language_info": {
   "codemirror_mode": {
    "name": "ipython",
    "version": 3
   },
   "file_extension": ".py",
   "mimetype": "text/x-python",
   "name": "python",
   "nbconvert_exporter": "python",
   "pygments_lexer": "ipython3",
   "version": "3.9.6"
  },
  "orig_nbformat": 4,
  "vscode": {
   "interpreter": {
    "hash": "9b63c45642264656c7109b96f636f509e07bddf6224b01e2012265b75dc1bc60"
   }
  }
 },
 "nbformat": 4,
 "nbformat_minor": 2
}
