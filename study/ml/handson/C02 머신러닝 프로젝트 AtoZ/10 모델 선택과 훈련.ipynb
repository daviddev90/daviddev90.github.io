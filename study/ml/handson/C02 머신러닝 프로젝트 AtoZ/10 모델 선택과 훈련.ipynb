{
 "cells": [
  {
   "attachments": {},
   "cell_type": "markdown",
   "metadata": {},
   "source": [
    "#### 지금까지 한 작업\n",
    "- 문제 정의\n",
    "- 데이터 읽고 탐색\n",
    "- 훈련 세트와 테스트 세트 나누기\n",
    "- 데이터를 자동으로 정제하고 준비하는 변환 파이프라인 작성"
   ]
  },
  {
   "cell_type": "code",
   "execution_count": 19,
   "metadata": {},
   "outputs": [],
   "source": [
    "# 데이터 불러오기\n",
    "import pandas as pd\n",
    "import numpy as np\n",
    "housing_prepared = pd.read_csv(\"housing_prepared.csv\", index_col=0).reset_index(drop=True)\n",
    "housing_labels = pd.read_csv(\"housing_labels.csv\", index_col=0).reset_index(drop=True)\n",
    "housing = pd.read_csv(\"housing.csv\", index_col=0).reset_index(drop=True)"
   ]
  },
  {
   "cell_type": "code",
   "execution_count": 20,
   "metadata": {},
   "outputs": [
    {
     "name": "stdout",
     "output_type": "stream",
     "text": [
      "   median_house_value\n",
      "0             72100.0\n",
      "1            279600.0\n",
      "2             82700.0\n",
      "3            112500.0\n",
      "4            238300.0\n"
     ]
    }
   ],
   "source": [
    "print(housing_labels.iloc[:5])"
   ]
  },
  {
   "attachments": {},
   "cell_type": "markdown",
   "metadata": {},
   "source": [
    "#### class로 만들어둔 파이프라인 객체 만들기"
   ]
  },
  {
   "cell_type": "code",
   "execution_count": 22,
   "metadata": {},
   "outputs": [],
   "source": [
    "from functions.full_pipeline import FullPipeline \n",
    "full_pipeline = FullPipeline()\n",
    "\n",
    "housing_prepared = full_pipeline.fit_transform(housing)"
   ]
  },
  {
   "attachments": {},
   "cell_type": "markdown",
   "metadata": {},
   "source": [
    "#### 선형 회귀 모델 시도해보기"
   ]
  },
  {
   "cell_type": "code",
   "execution_count": 23,
   "metadata": {},
   "outputs": [
    {
     "data": {
      "text/html": [
       "<style>#sk-container-id-2 {color: black;}#sk-container-id-2 pre{padding: 0;}#sk-container-id-2 div.sk-toggleable {background-color: white;}#sk-container-id-2 label.sk-toggleable__label {cursor: pointer;display: block;width: 100%;margin-bottom: 0;padding: 0.3em;box-sizing: border-box;text-align: center;}#sk-container-id-2 label.sk-toggleable__label-arrow:before {content: \"▸\";float: left;margin-right: 0.25em;color: #696969;}#sk-container-id-2 label.sk-toggleable__label-arrow:hover:before {color: black;}#sk-container-id-2 div.sk-estimator:hover label.sk-toggleable__label-arrow:before {color: black;}#sk-container-id-2 div.sk-toggleable__content {max-height: 0;max-width: 0;overflow: hidden;text-align: left;background-color: #f0f8ff;}#sk-container-id-2 div.sk-toggleable__content pre {margin: 0.2em;color: black;border-radius: 0.25em;background-color: #f0f8ff;}#sk-container-id-2 input.sk-toggleable__control:checked~div.sk-toggleable__content {max-height: 200px;max-width: 100%;overflow: auto;}#sk-container-id-2 input.sk-toggleable__control:checked~label.sk-toggleable__label-arrow:before {content: \"▾\";}#sk-container-id-2 div.sk-estimator input.sk-toggleable__control:checked~label.sk-toggleable__label {background-color: #d4ebff;}#sk-container-id-2 div.sk-label input.sk-toggleable__control:checked~label.sk-toggleable__label {background-color: #d4ebff;}#sk-container-id-2 input.sk-hidden--visually {border: 0;clip: rect(1px 1px 1px 1px);clip: rect(1px, 1px, 1px, 1px);height: 1px;margin: -1px;overflow: hidden;padding: 0;position: absolute;width: 1px;}#sk-container-id-2 div.sk-estimator {font-family: monospace;background-color: #f0f8ff;border: 1px dotted black;border-radius: 0.25em;box-sizing: border-box;margin-bottom: 0.5em;}#sk-container-id-2 div.sk-estimator:hover {background-color: #d4ebff;}#sk-container-id-2 div.sk-parallel-item::after {content: \"\";width: 100%;border-bottom: 1px solid gray;flex-grow: 1;}#sk-container-id-2 div.sk-label:hover label.sk-toggleable__label {background-color: #d4ebff;}#sk-container-id-2 div.sk-serial::before {content: \"\";position: absolute;border-left: 1px solid gray;box-sizing: border-box;top: 0;bottom: 0;left: 50%;z-index: 0;}#sk-container-id-2 div.sk-serial {display: flex;flex-direction: column;align-items: center;background-color: white;padding-right: 0.2em;padding-left: 0.2em;position: relative;}#sk-container-id-2 div.sk-item {position: relative;z-index: 1;}#sk-container-id-2 div.sk-parallel {display: flex;align-items: stretch;justify-content: center;background-color: white;position: relative;}#sk-container-id-2 div.sk-item::before, #sk-container-id-2 div.sk-parallel-item::before {content: \"\";position: absolute;border-left: 1px solid gray;box-sizing: border-box;top: 0;bottom: 0;left: 50%;z-index: -1;}#sk-container-id-2 div.sk-parallel-item {display: flex;flex-direction: column;z-index: 1;position: relative;background-color: white;}#sk-container-id-2 div.sk-parallel-item:first-child::after {align-self: flex-end;width: 50%;}#sk-container-id-2 div.sk-parallel-item:last-child::after {align-self: flex-start;width: 50%;}#sk-container-id-2 div.sk-parallel-item:only-child::after {width: 0;}#sk-container-id-2 div.sk-dashed-wrapped {border: 1px dashed gray;margin: 0 0.4em 0.5em 0.4em;box-sizing: border-box;padding-bottom: 0.4em;background-color: white;}#sk-container-id-2 div.sk-label label {font-family: monospace;font-weight: bold;display: inline-block;line-height: 1.2em;}#sk-container-id-2 div.sk-label-container {text-align: center;}#sk-container-id-2 div.sk-container {/* jupyter's `normalize.less` sets `[hidden] { display: none; }` but bootstrap.min.css set `[hidden] { display: none !important; }` so we also need the `!important` here to be able to override the default hidden behavior on the sphinx rendered scikit-learn.org. See: https://github.com/scikit-learn/scikit-learn/issues/21755 */display: inline-block !important;position: relative;}#sk-container-id-2 div.sk-text-repr-fallback {display: none;}</style><div id=\"sk-container-id-2\" class=\"sk-top-container\"><div class=\"sk-text-repr-fallback\"><pre>LinearRegression()</pre><b>In a Jupyter environment, please rerun this cell to show the HTML representation or trust the notebook. <br />On GitHub, the HTML representation is unable to render, please try loading this page with nbviewer.org.</b></div><div class=\"sk-container\" hidden><div class=\"sk-item\"><div class=\"sk-estimator sk-toggleable\"><input class=\"sk-toggleable__control sk-hidden--visually\" id=\"sk-estimator-id-2\" type=\"checkbox\" checked><label for=\"sk-estimator-id-2\" class=\"sk-toggleable__label sk-toggleable__label-arrow\">LinearRegression</label><div class=\"sk-toggleable__content\"><pre>LinearRegression()</pre></div></div></div></div></div>"
      ],
      "text/plain": [
       "LinearRegression()"
      ]
     },
     "execution_count": 23,
     "metadata": {},
     "output_type": "execute_result"
    }
   ],
   "source": [
    "# 선형 회귀 모델 훈련\n",
    "from sklearn.linear_model import LinearRegression\n",
    "\n",
    "lin_reg = LinearRegression()\n",
    "lin_reg.fit(housing_prepared, housing_labels)"
   ]
  },
  {
   "cell_type": "code",
   "execution_count": 25,
   "metadata": {},
   "outputs": [
    {
     "name": "stdout",
     "output_type": "stream",
     "text": [
      "예측: [[ 86208.]\n",
      " [304704.]\n",
      " [153536.]\n",
      " [185728.]\n",
      " [244416.]]\n",
      "레이블: [[72100.0], [279600.0], [82700.0], [112500.0], [238300.0]]\n"
     ]
    }
   ],
   "source": [
    "# 훈련 세트에 있는 몇 개 샘플에 대해 적용\n",
    "some_data = housing.iloc[:5]\n",
    "some_labels = housing_labels.iloc[:5]\n",
    "# some_labels to list\n",
    "some_labels = some_labels.values.tolist()\n",
    "\n",
    "some_data_prepared = full_pipeline.transform(some_data)\n",
    "\n",
    "print(\"예측:\", lin_reg.predict(some_data_prepared))\n",
    "print(\"레이블:\", some_labels)"
   ]
  },
  {
   "attachments": {},
   "cell_type": "markdown",
   "metadata": {},
   "source": [
    "#### 선형 회귀 모델 RMSE 측정"
   ]
  },
  {
   "cell_type": "code",
   "execution_count": 26,
   "metadata": {},
   "outputs": [
    {
     "name": "stdout",
     "output_type": "stream",
     "text": [
      "선형 회귀 모델의 RMSE: 68633.40810776998\n"
     ]
    }
   ],
   "source": [
    "from sklearn.metrics import mean_squared_error\n",
    "housing_predictions = lin_reg.predict(housing_prepared)\n",
    "lin_mse = mean_squared_error(housing_labels, housing_predictions)\n",
    "lin_rmse = np.sqrt(lin_mse)\n",
    "print(\"선형 회귀 모델의 RMSE:\", lin_rmse)"
   ]
  },
  {
   "attachments": {},
   "cell_type": "markdown",
   "metadata": {},
   "source": [
    "#### 해석\n",
    "- 대부분 구역의 중간 주택 가격은 120,000 ~ 265,000 사이\n",
    "- 68000가량의 오차는 예측이 전혀 수행되지 못하고 있다는 뜻\n",
    "- 모델이 훈련 데이터에 과소적합된 것\n",
    "- 특성들이 좋은 예측을 만들 만큼 충분한 정보를 제공하지 못했거나\n",
    "- 모델이 충분히 강력하지 않았다는 것\n",
    "\n",
    "- 과소적합을 해결하려면\n",
    "1. 더 강력한 모델을 선택하거나\n",
    "2. 훈련 알고리즘에 더 좋은 특성을 주입하거나\n",
    "3. 규제를 감소시키는 것\n",
    "\n",
    "여기서는 규제를 도입한 적이 없으므로 일단 더 복잡한 모델을 선택하는 것으로 시도해보자"
   ]
  },
  {
   "attachments": {},
   "cell_type": "markdown",
   "metadata": {},
   "source": [
    "#### Decision Tree Regressor\n",
    "- 데이터에서 복잡한 비선형 관계를 찾을 수 있는 모델"
   ]
  },
  {
   "cell_type": "code",
   "execution_count": 27,
   "metadata": {},
   "outputs": [
    {
     "name": "stdout",
     "output_type": "stream",
     "text": [
      "결정 트리 모델의 RMSE: 0.0\n"
     ]
    }
   ],
   "source": [
    "from sklearn.tree import DecisionTreeRegressor\n",
    "\n",
    "tree_reg = DecisionTreeRegressor(random_state=42)\n",
    "tree_reg.fit(housing_prepared, housing_labels)\n",
    "\n",
    "housing_predictions = tree_reg.predict(housing_prepared)\n",
    "tree_mse = mean_squared_error(housing_labels, housing_predictions)\n",
    "tree_rmse = np.sqrt(tree_mse)\n",
    "print(\"결정 트리 모델의 RMSE:\", tree_rmse)"
   ]
  },
  {
   "attachments": {},
   "cell_type": "markdown",
   "metadata": {},
   "source": [
    "#### 결과 해석\n",
    "- 오차가 전혀 없음\n",
    "- 모델이 데이터에 너무 심하게 과대적합된 것으로 보임\n",
    "- 교차 검증을 시도해봐야 함"
   ]
  },
  {
   "attachments": {},
   "cell_type": "markdown",
   "metadata": {},
   "source": [
    "# K-fold 교차 검증\n",
    "- 예를 들어 10겹 교차 검증은 아래와 같음\n",
    "- 훈련 세트를 10개의 서브셋으로 무작위 분할\n",
    "- 결정 트리 모델을 10번 훈련하고 평가함\n",
    "- 매 번 하나의 다른 폴드를 선택해 평가에 사용\n",
    "- 나머지 9개 폴드는 훈련에 사용\n",
    "- 10개의 평가 점수가 담긴 배열이 결과로 나옴"
   ]
  },
  {
   "cell_type": "code",
   "execution_count": 35,
   "metadata": {},
   "outputs": [
    {
     "name": "stdout",
     "output_type": "stream",
     "text": [
      "r2_scores:  [0.59448979 0.63522832 0.61936099 0.61651153 0.62440093 0.55585695\n",
      " 0.64931478 0.59497473 0.6425953  0.62572699]\n",
      "rmse_scores: [72831.45749112 69973.18438322 69528.56551415 72517.78229792\n",
      " 69145.50006909 79094.74123727 68960.045444   73344.50225684\n",
      " 69826.02473916 71077.09753998]\n",
      "rmse 평균: 71629.89009727491\n",
      "rmse 표준편차: 2914.035468468928\n"
     ]
    }
   ],
   "source": [
    "from sklearn.model_selection import cross_val_score\n",
    "scores = cross_val_score(tree_reg, housing_prepared, housing_labels, cv=10)\n",
    "\n",
    "rmse_scores = cross_val_score(tree_reg, housing_prepared, housing_labels, \n",
    "                              scoring=\"neg_mean_squared_error\", cv=10)\n",
    "\n",
    "def display_rmse_scores(rmsescores):\n",
    "  rmse_adj = np.sqrt(-rmsescores)\n",
    "  print(\"rmse_scores:\", rmse_adj)\n",
    "  print(\"rmse 평균:\", rmse_adj.mean())\n",
    "  print(\"rmse 표준편차:\", rmse_adj.std())\n",
    "\n",
    "\n",
    "\n",
    "print('r2_scores: ', scores)\n",
    "display_rmse_scores(rmse_scores)"
   ]
  },
  {
   "attachments": {},
   "cell_type": "markdown",
   "metadata": {},
   "source": [
    "#### 해석\n",
    "- 기본적으로 scoring에 아무 매개변수가 없다면 r2_score를 계산한다\n",
    "- rmse를 계산하면 값이 음수로 나오기 때문에 양수로 바꾸고 표준편차를 구했다.\n",
    "- rmse score와 평균, 표준편차를 print하는 것은 뒤에서 더 사용할 예정이므로 함수로 구현했다\n",
    "- 결과는 선형회귀보다도 나빴다"
   ]
  },
  {
   "attachments": {},
   "cell_type": "markdown",
   "metadata": {},
   "source": [
    "#### RandomForest\n",
    "- 특성을 무작위로 선택해서 많은 결정 트리를 만들고 그 예측을 평균 냄\n",
    "- 여러 다른 모델을 모아서 하나의 모델을 만드는 것을 앙상블 학습이라고 함\n",
    "- 머신러닝 알고리즘의 성능을 극대화할 수 있음"
   ]
  },
  {
   "cell_type": "code",
   "execution_count": 41,
   "metadata": {},
   "outputs": [
    {
     "name": "stdout",
     "output_type": "stream",
     "text": [
      "[ 72100. 279600.  82700. ... 140400. 258100.  62700.]\n"
     ]
    }
   ],
   "source": [
    "print(housing_labels)"
   ]
  },
  {
   "cell_type": "code",
   "execution_count": 42,
   "metadata": {},
   "outputs": [
    {
     "name": "stdout",
     "output_type": "stream",
     "text": [
      "r2_scores:  [0.79677205 0.82303573 0.82450522 0.80376202 0.82217207 0.80903775\n",
      " 0.79483317 0.81127976 0.82639863 0.78352114]\n",
      "rmse_scores: [51559.63379638 48737.57100062 47210.51269766 51875.21247297\n",
      " 47577.50470123 51863.27467888 52746.34645573 50065.1762751\n",
      " 48664.66818196 54055.90894609]\n",
      "rmse 평균: 50435.58092066179\n",
      "rmse 표준편차: 2203.3381412764606\n"
     ]
    }
   ],
   "source": [
    "from sklearn.ensemble import RandomForestRegressor\n",
    "forest_reg = RandomForestRegressor(n_estimators=100, random_state=42)\n",
    "\n",
    "forest_reg.fit(housing_prepared, housing_labels)\n",
    "\n",
    "\n",
    "forest_scores = cross_val_score(forest_reg, housing_prepared, housing_labels, cv=10)\n",
    "forest_rmse_scores = cross_val_score(forest_reg, housing_prepared, housing_labels,\n",
    "                                      scoring=\"neg_mean_squared_error\", cv=10)\n",
    "\n",
    "print('r2_scores: ', forest_scores)\n",
    "display_rmse_scores(forest_rmse_scores)"
   ]
  },
  {
   "attachments": {},
   "cell_type": "markdown",
   "metadata": {},
   "source": [
    "#### 모델 저장\n",
    "- 실험한 모델을 모두 저장해두면 필요할 때 쉽게 복원 가능\n",
    "- 하나의 알고리즘을 깊게 파기 전에 여러 종류의 알고리즘으로, 하이퍼파라미터 튜닝에 너무 큰 시간을 들이지 않으면서 다양한 모델을 시도해봐야 함\n",
    "- 그리고 가능성 있는 2~5개의 모델을 선정하고, 그것들을 깊게 파는 것"
   ]
  },
  {
   "cell_type": "code",
   "execution_count": 43,
   "metadata": {},
   "outputs": [
    {
     "data": {
      "text/plain": [
       "['lin_reg.pkl']"
      ]
     },
     "execution_count": 43,
     "metadata": {},
     "output_type": "execute_result"
    }
   ],
   "source": [
    "import joblib\n",
    "joblib.dump(forest_reg, \"forest_reg.pkl\")\n",
    "joblib.dump(lin_reg, \"lin_reg.pkl\")\n",
    "\n",
    "# 모델 불러오기\n",
    "# forest_reg_loaded = joblib.load(\"forest_reg.pkl\")\n",
    "# lin_reg_loaded = joblib.load(\"lin_reg.pkl\")"
   ]
  }
 ],
 "metadata": {
  "kernelspec": {
   "display_name": "venv-metal",
   "language": "python",
   "name": "python3"
  },
  "language_info": {
   "codemirror_mode": {
    "name": "ipython",
    "version": 3
   },
   "file_extension": ".py",
   "mimetype": "text/x-python",
   "name": "python",
   "nbconvert_exporter": "python",
   "pygments_lexer": "ipython3",
   "version": "3.9.6"
  },
  "orig_nbformat": 4,
  "vscode": {
   "interpreter": {
    "hash": "9b63c45642264656c7109b96f636f509e07bddf6224b01e2012265b75dc1bc60"
   }
  }
 },
 "nbformat": 4,
 "nbformat_minor": 2
}
